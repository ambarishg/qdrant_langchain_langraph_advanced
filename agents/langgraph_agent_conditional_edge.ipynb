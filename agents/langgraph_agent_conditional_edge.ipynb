{
 "cells": [
  {
   "cell_type": "code",
   "execution_count": 1,
   "id": "89bf640d",
   "metadata": {},
   "outputs": [
    {
     "name": "stderr",
     "output_type": "stream",
     "text": [
      "USER_AGENT environment variable not set, consider setting it to identify your requests.\n"
     ]
    }
   ],
   "source": [
    "import os\n",
    "import uuid\n",
    "from typing import List\n",
    "from typing_extensions import TypedDict\n",
    "from IPython.display import Image, display\n",
    "\n",
    "\n",
    "from langchain.text_splitter import RecursiveCharacterTextSplitter\n",
    "from langchain_community.document_loaders import WebBaseLoader\n",
    "from langchain_community.vectorstores import SKLearnVectorStore\n",
    "from langchain_huggingface import HuggingFaceEmbeddings\n",
    "from langchain.prompts import PromptTemplate\n",
    "from langchain_core.output_parsers import JsonOutputParser, StrOutputParser\n",
    "from langchain.schema import Document\n",
    "from langgraph.graph import START, END, StateGraph\n",
    "from langchain_community.tools.tavily_search import TavilySearchResults\n",
    "from pprint import pprint\n",
    "\n",
    "\n",
    "from typing import Literal\n",
    "\n",
    "from langchain_core.prompts import ChatPromptTemplate\n",
    "from pydantic import BaseModel, Field\n",
    "\n",
    "from langchain.document_loaders import HuggingFaceDatasetLoader"
   ]
  },
  {
   "cell_type": "code",
   "execution_count": 2,
   "id": "395e116f",
   "metadata": {},
   "outputs": [],
   "source": [
    "def initialize_llm():\n",
    "    # we are using gemini model. You can use different models.\n",
    "    from langchain.chat_models import init_chat_model\n",
    "    from dotenv import load_dotenv  # used to store secret stuff like API keys or configuration values\n",
    "\n",
    "    load_dotenv()\n",
    "\n",
    "    llm = init_chat_model(\n",
    "        \"azure_openai:gpt-4o\",\n",
    "        azure_deployment=\"gpt4o\",\n",
    "    )\n",
    "    metadata = f\"CRAG, gpt4o\"\n",
    "    return llm, metadata"
   ]
  },
  {
   "cell_type": "code",
   "execution_count": 3,
   "id": "2374ddb6",
   "metadata": {},
   "outputs": [],
   "source": [
    "llm, metadata = initialize_llm()"
   ]
  },
  {
   "cell_type": "code",
   "execution_count": 4,
   "id": "49e9cade",
   "metadata": {},
   "outputs": [
    {
     "name": "stdout",
     "output_type": "stream",
     "text": [
      "datasource='transformer'\n",
      "datasource='web_search'\n"
     ]
    }
   ],
   "source": [
    "class RouteQuery(BaseModel):\n",
    "    \"\"\"Route a user query to the most relevant datasource.\"\"\"\n",
    "\n",
    "    datasource: Literal[\"transformer\", \"web_search\"] = Field(\n",
    "        ...,\n",
    "        description=\"\"\"\n",
    "        \n",
    "        Given a user question choose to route it to \n",
    "        transformer store or web search.\"\"\"\n",
    "    )\n",
    "\n",
    "\n",
    "structured_llm_router = llm.with_structured_output(RouteQuery)\n",
    "\n",
    "# Prompt\n",
    "system = \"\"\"\n",
    "You are an expert at routing a user question to a \n",
    "transformer store or web search.\n",
    "Transformer store has information about transformer models, guides, and tutorials.\n",
    "Web search has information about current events and news.\n",
    "You must choose the most relevant datasource to answer the question.\n",
    "\"\"\"\n",
    "route_prompt = ChatPromptTemplate.from_messages(\n",
    "    [\n",
    "        (\"system\", system),\n",
    "        (\"human\", \"{question}\"),\n",
    "    ]\n",
    ")\n",
    "\n",
    "question_router = route_prompt | structured_llm_router\n",
    "print(\n",
    "    question_router.invoke(\n",
    "        {\"question\": \"What is the difference between GPT-4 and GPT-3?\"}\n",
    "    )\n",
    ")\n",
    "print(question_router.invoke({\"question\": \"What is the capital of India?\"}))"
   ]
  },
  {
   "cell_type": "code",
   "execution_count": 5,
   "id": "1bb159db",
   "metadata": {},
   "outputs": [],
   "source": [
    "url = os.getenv(\"QDRANT_URL\")\n",
    "api_key = os.getenv(\"QDRANT_KEY\")\n",
    "collection_name = \"transformers_docs\""
   ]
  },
  {
   "cell_type": "code",
   "execution_count": 6,
   "id": "6c973d2b",
   "metadata": {},
   "outputs": [
    {
     "name": "stderr",
     "output_type": "stream",
     "text": [
      "c:\\Ambarish\\qdrant_langchain_langraph_advanced\\.venv\\Lib\\site-packages\\tqdm\\auto.py:21: TqdmWarning: IProgress not found. Please update jupyter and ipywidgets. See https://ipywidgets.readthedocs.io/en/stable/user_install.html\n",
      "  from .autonotebook import tqdm as notebook_tqdm\n"
     ]
    }
   ],
   "source": [
    "from langchain_qdrant import QdrantVectorStore"
   ]
  },
  {
   "cell_type": "code",
   "execution_count": 7,
   "id": "e7bf12f0",
   "metadata": {},
   "outputs": [],
   "source": [
    "model_name = \"sentence-transformers/all-mpnet-base-v2\"\n",
    "model_kwargs = {'device': 'cpu'}\n",
    "encode_kwargs = {'normalize_embeddings': False}\n",
    "embeddings = HuggingFaceEmbeddings(\n",
    "    model_name=model_name,\n",
    "    model_kwargs=model_kwargs,\n",
    "    encode_kwargs=encode_kwargs\n",
    ")"
   ]
  },
  {
   "cell_type": "code",
   "execution_count": 8,
   "id": "f52eec63",
   "metadata": {},
   "outputs": [],
   "source": [
    "qdrant = QdrantVectorStore.from_existing_collection(\n",
    "    embedding=embeddings,\n",
    "    collection_name=collection_name,\n",
    "    url=url,\n",
    "    api_key=api_key,\n",
    ")"
   ]
  },
  {
   "cell_type": "code",
   "execution_count": 9,
   "id": "d0126994",
   "metadata": {},
   "outputs": [],
   "source": [
    "retriever  = qdrant.as_retriever(search_type=\"similarity\", \n",
    "                                 search_kwargs={\"k\": 4})"
   ]
  },
  {
   "cell_type": "code",
   "execution_count": 10,
   "id": "e3bc33c9",
   "metadata": {},
   "outputs": [
    {
     "name": "stderr",
     "output_type": "stream",
     "text": [
      "c:\\Ambarish\\qdrant_langchain_langraph_advanced\\.venv\\Lib\\site-packages\\langsmith\\client.py:272: LangSmithMissingAPIKeyWarning: API key must be provided when using hosted LangSmith API\n",
      "  warnings.warn(\n"
     ]
    }
   ],
   "source": [
    "### Generate\n",
    "\n",
    "from langchain import hub\n",
    "from langchain_core.output_parsers import StrOutputParser\n",
    "\n",
    "# Prompt\n",
    "prompt = hub.pull(\"rlm/rag-prompt\")\n",
    "\n",
    "\n",
    "# Post-processing\n",
    "def format_docs(docs):\n",
    "    return \"\\n\\n\".join(doc.page_content for doc in docs)\n",
    "\n",
    "\n",
    "# Chain\n",
    "rag_chain = prompt | llm | StrOutputParser()"
   ]
  },
  {
   "cell_type": "code",
   "execution_count": 11,
   "id": "f457f583",
   "metadata": {},
   "outputs": [],
   "source": [
    "from typing import List\n",
    "\n",
    "from typing_extensions import TypedDict\n",
    "\n",
    "\n",
    "class GraphState(TypedDict):\n",
    "    \"\"\"\n",
    "    Represents the state of our graph.\n",
    "\n",
    "    Attributes:\n",
    "        question: question\n",
    "        generation: LLM generation\n",
    "        documents: list of documents\n",
    "    \"\"\"\n",
    "\n",
    "    question: str\n",
    "    generation: str\n",
    "    documents: List[str]"
   ]
  },
  {
   "cell_type": "code",
   "execution_count": 12,
   "id": "203d8595",
   "metadata": {},
   "outputs": [],
   "source": [
    "from langchain.schema import Document"
   ]
  },
  {
   "cell_type": "code",
   "execution_count": 13,
   "id": "5bcd345c",
   "metadata": {},
   "outputs": [],
   "source": [
    "def retrieve_and_generate(state):\n",
    "    \"\"\"\n",
    "    Retrieve documents and generate answer\n",
    "\n",
    "    Args:\n",
    "        state (dict): The current graph state\n",
    "\n",
    "    Returns:\n",
    "        state (dict): New keys added to state, documents and generation, that contains retrieved documents and LLM generation\n",
    "    \"\"\"\n",
    "    print(\"---RETRIEVE AND GENERATE---\")\n",
    "    question = state[\"question\"]\n",
    "    # Retrieval\n",
    "    docs = retriever.invoke(question)\n",
    "    documents = \"\\n\".join([d.page_content for d in docs])\n",
    "    # RAG generation\n",
    "    generation = rag_chain.invoke({\"context\": documents, \"question\": question})\n",
    "    return {\"documents\": documents, \"question\": question, \"generation\": generation}"
   ]
  },
  {
   "cell_type": "code",
   "execution_count": 14,
   "id": "bd7b2381",
   "metadata": {},
   "outputs": [
    {
     "name": "stderr",
     "output_type": "stream",
     "text": [
      "C:\\Users\\Ambarish Ganguly\\AppData\\Local\\Temp\\ipykernel_9480\\730760015.py:5: LangChainDeprecationWarning: The class `TavilySearchResults` was deprecated in LangChain 0.3.25 and will be removed in 1.0. An updated version of the class exists in the :class:`~langchain-tavily package and should be used instead. To use it run `pip install -U :class:`~langchain-tavily` and import as `from :class:`~langchain_tavily import TavilySearch``.\n",
      "  web_search_tool = TavilySearchResults(k=3)\n"
     ]
    }
   ],
   "source": [
    "### Search\n",
    "\n",
    "from langchain_community.tools.tavily_search import TavilySearchResults\n",
    "\n",
    "web_search_tool = TavilySearchResults(k=3)"
   ]
  },
  {
   "cell_type": "code",
   "execution_count": 15,
   "id": "2bebc16c",
   "metadata": {},
   "outputs": [],
   "source": [
    "def web_and_generate(state):\n",
    "    \"\"\"\n",
    "    Web search and generate answer\n",
    "\n",
    "    Args:\n",
    "        state (dict): The current graph state\n",
    "\n",
    "    Returns:\n",
    "        state (dict): New keys added to state, documents and generation, that contains retrieved documents and LLM generation\n",
    "    \"\"\"\n",
    "    print(\"---WEB SEARCH AND GENERATE---\")\n",
    "    question = state[\"question\"]\n",
    "\n",
    "    # Web search\n",
    "    docs = web_search_tool.invoke({\"query\": question})\n",
    "    web_results = \"\\n\".join([d[\"content\"] for d in docs])\n",
    "    web_results = Document(page_content=web_results)\n",
    "\n",
    "    # RAG generation\n",
    "    generation = rag_chain.invoke({\"context\": [web_results], \"question\": question})\n",
    "    return {\"documents\": [web_results], \"question\": question, \"generation\": generation}"
   ]
  },
  {
   "cell_type": "code",
   "execution_count": 16,
   "id": "a4ff0c6d",
   "metadata": {},
   "outputs": [],
   "source": [
    "def route_question(state):\n",
    "    \"\"\"\n",
    "    Route question to web search or RAG.\n",
    "\n",
    "    Args:\n",
    "        state (dict): The current graph state\n",
    "\n",
    "    Returns:\n",
    "        str: Next node to call\n",
    "    \"\"\"\n",
    "\n",
    "    print(\"---ROUTE QUESTION---\")\n",
    "    question = state[\"question\"]\n",
    "    source = question_router.invoke({\"question\": question})\n",
    "    if source.datasource == \"web_search\":\n",
    "        print(\"---ROUTE QUESTION TO WEB SEARCH---\")\n",
    "        return \"web_search\"\n",
    "    elif source.datasource == \"transformer\":\n",
    "        print(\"---ROUTE QUESTION TO RAG---\")\n",
    "        return \"transformer\"\n"
   ]
  },
  {
   "cell_type": "code",
   "execution_count": 17,
   "id": "acadbd41",
   "metadata": {},
   "outputs": [],
   "source": [
    "from langgraph.graph import END, StateGraph, START\n",
    "\n",
    "workflow = StateGraph(GraphState)\n",
    "\n",
    "# Define the nodes\n",
    "workflow.add_node(\"web_search\", web_and_generate)  # web search\n",
    "workflow.add_node(\"transformer\", retrieve_and_generate)  # retrieve\n",
    "\n",
    "\n",
    "# Build graph\n",
    "workflow.add_conditional_edges(\n",
    "    START,\n",
    "    route_question,\n",
    "    {\n",
    "        \"web_search\": \"web_search\",\n",
    "        \"transformer\": \"transformer\",\n",
    "    },\n",
    ")\n",
    "workflow.add_edge(\"web_search\", END)\n",
    "workflow.add_edge(\"transformer\", END)\n",
    "\n",
    "# Compile\n",
    "app = workflow.compile()"
   ]
  },
  {
   "cell_type": "code",
   "execution_count": 18,
   "id": "10188737",
   "metadata": {},
   "outputs": [
    {
     "data": {
      "image/png": "[encoded data removed]",
      "text/plain": [
       "<IPython.core.display.Image object>"
      ]
     },
     "metadata": {},
     "output_type": "display_data"
    }
   ],
   "source": [
    "display(Image(app.get_graph(xray=True).draw_mermaid_png()))"
   ]
  },
  {
   "cell_type": "code",
   "execution_count": 19,
   "id": "5d4a6067",
   "metadata": {},
   "outputs": [],
   "source": [
    "question = \"What is LLAMA 4?\""
   ]
  },
  {
   "cell_type": "code",
   "execution_count": 20,
   "id": "ebfc68de",
   "metadata": {},
   "outputs": [
    {
     "name": "stdout",
     "output_type": "stream",
     "text": [
      "---ROUTE QUESTION---\n",
      "---ROUTE QUESTION TO RAG---\n",
      "---RETRIEVE AND GENERATE---\n",
      "\"Node 'transformer':\"\n",
      "'\\n---\\n'\n",
      "('The context provided mentions Llama and Llama 2 but does not specify '\n",
      " \"anything about LLAMA 4. Therefore, I don't know what LLAMA 4 is based on the \"\n",
      " 'given information.')\n"
     ]
    }
   ],
   "source": [
    "# Run\n",
    "inputs = {\"question\": question}\n",
    "for output in app.stream(inputs):\n",
    "    for key, value in output.items():\n",
    "        # Node\n",
    "        pprint(f\"Node '{key}':\")\n",
    "        # Optional: print full state at each node\n",
    "        #pprint(value[\"generation\"], indent=2, width=80, depth=None)\n",
    "    pprint(\"\\n---\\n\")\n",
    "\n",
    "# Final generation\n",
    "pprint(value[\"generation\"])"
   ]
  }
 ],
 "metadata": {
  "kernelspec": {
   "display_name": ".venv (3.12.1)",
   "language": "python",
   "name": "python3"
  },
  "language_info": {
   "codemirror_mode": {
    "name": "ipython",
    "version": 3
   },
   "file_extension": ".py",
   "mimetype": "text/x-python",
   "name": "python",
   "nbconvert_exporter": "python",
   "pygments_lexer": "ipython3",
   "version": "3.12.1"
  }
 },
 "nbformat": 4,
 "nbformat_minor": 5
}
