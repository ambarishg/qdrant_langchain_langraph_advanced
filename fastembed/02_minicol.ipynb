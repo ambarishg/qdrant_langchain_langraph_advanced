{
 "cells": [
  {
   "cell_type": "code",
   "execution_count": 1,
   "id": "10519af0",
   "metadata": {},
   "outputs": [
    {
     "name": "stderr",
     "output_type": "stream",
     "text": [
      "c:\\Ambarish\\qdrant_examples\\.venv\\Lib\\site-packages\\tqdm\\auto.py:21: TqdmWarning: IProgress not found. Please update jupyter and ipywidgets. See https://ipywidgets.readthedocs.io/en/stable/user_install.html\n",
      "  from .autonotebook import tqdm as notebook_tqdm\n"
     ]
    }
   ],
   "source": [
    "from qdrant_client import QdrantClient, models\n",
    "\n",
    "client = QdrantClient(\":memory:\")  # Qdrant is running from RAM."
   ]
  },
  {
   "cell_type": "code",
   "execution_count": 2,
   "id": "6c42f5a8",
   "metadata": {},
   "outputs": [],
   "source": [
    "minicoil_collection_name = \"minicoil_collection\""
   ]
  },
  {
   "cell_type": "code",
   "execution_count": 3,
   "id": "2897e448",
   "metadata": {},
   "outputs": [
    {
     "data": {
      "text/plain": [
       "True"
      ]
     },
     "execution_count": 3,
     "metadata": {},
     "output_type": "execute_result"
    }
   ],
   "source": [
    "client.create_collection(\n",
    "    collection_name=\"{minicoil_collection_name}\",\n",
    "    sparse_vectors_config={\n",
    "        \"minicoil\": models.SparseVectorParams(\n",
    "            modifier=models.Modifier.IDF #Inverse Document Frequency\n",
    "        )\n",
    "    }\n",
    ")"
   ]
  },
  {
   "cell_type": "code",
   "execution_count": 4,
   "id": "ef7a4928",
   "metadata": {},
   "outputs": [],
   "source": [
    "documents = [\n",
    "    \"Vector Graphics in Modern Web Design\",\n",
    "    \"The Art of Search and Self-Discovery\",\n",
    "    \"Efficient Vector Search Algorithms for Large Datasets\",\n",
    "    \"Searching the Soul: A Journey Through Mindfulness\",\n",
    "    \"Vector-Based Animations for User Interface Design\",\n",
    "    \"Search Engines: A Technical and Social Overview\",\n",
    "    \"The Rise of Vector Databases in AI Systems\",\n",
    "    \"Search Patterns in Human Behavior\",\n",
    "    \"Vector Illustrations: A Guide for Creatives\",\n",
    "    \"Search and Rescue: Technologies in Emergency Response\",\n",
    "    \"Vectors in Physics: From Arrows to Equations\",\n",
    "    \"Searching for Lost Time in the Digital Age\",\n",
    "    \"Vector Spaces and Linear Transformations\",\n",
    "    \"The Endless Search for Truth in Philosophy\",\n",
    "    \"3D Modeling with Vectors in Blender\",\n",
    "    \"Search Optimization Strategies for E-commerce\",\n",
    "    \"Vector Drawing Techniques with Open-Source Tools\",\n",
    "    \"In Search of Meaning: A Psychological Perspective\",\n",
    "    \"Advanced Vector Calculus for Engineers\",\n",
    "    \"Search Interfaces: UX Principles and Case Studies\",\n",
    "    \"The Use of Vector Fields in Meteorology\",\n",
    "    \"Search and Destroy: Cybersecurity in the 21st Century\",\n",
    "    \"From Bitmap to Vector: A Designer’s Guide\",\n",
    "    \"Search Engines and the Democratization of Knowledge\",\n",
    "    \"Vector Geometry in Game Development\",\n",
    "    \"The Human Search for Connection in a Digital World\",\n",
    "    \"AI-Powered Vector Search in Recommendation Systems\",\n",
    "    \"Searchable Archives: The History of Digital Retrieval\",\n",
    "    \"Vector Control Strategies in Public Health\",\n",
    "    \"The Search for Extraterrestrial Intelligence\"\n",
    "]"
   ]
  },
  {
   "cell_type": "code",
   "execution_count": 5,
   "id": "b7a0ceca",
   "metadata": {},
   "outputs": [
    {
     "data": {
      "text/plain": [
       "30"
      ]
     },
     "execution_count": 5,
     "metadata": {},
     "output_type": "execute_result"
    }
   ],
   "source": [
    "len(documents)"
   ]
  },
  {
   "cell_type": "code",
   "execution_count": null,
   "id": "2b66caa4",
   "metadata": {},
   "outputs": [
    {
     "data": {
      "text/plain": [
       "6.5"
      ]
     },
     "execution_count": 6,
     "metadata": {},
     "output_type": "execute_result"
    }
   ],
   "source": [
    "#Estimating the average length of the documents in the corpus\n",
    "avg_documents_length = \\\n",
    "sum(len(document.split()) for document in documents) /len(documents)\n",
    "avg_documents_length"
   ]
  },
  {
   "cell_type": "code",
   "execution_count": 7,
   "id": "2395aa89",
   "metadata": {},
   "outputs": [
    {
     "name": "stderr",
     "output_type": "stream",
     "text": [
      "Fetching 8 files:   0%|          | 0/8 [00:00<?, ?it/s]Xet Storage is enabled for this repo, but the 'hf_xet' package is not installed. Falling back to regular HTTP download. For better performance, install the package with: `pip install huggingface_hub[hf_xet]` or `pip install hf_xet`\n",
      "c:\\Ambarish\\qdrant_examples\\.venv\\Lib\\site-packages\\huggingface_hub\\file_download.py:143: UserWarning: `huggingface_hub` cache-system uses symlinks by default to efficiently store duplicated files but your machine does not support them in C:\\Users\\Ambarish Ganguly\\AppData\\Local\\Temp\\fastembed_cache\\models--Qdrant--minicoil-v1. Caching files will still work but in a degraded version that might require more space on your disk. This warning can be disabled by setting the `HF_HUB_DISABLE_SYMLINKS_WARNING` environment variable. For more details, see https://huggingface.co/docs/huggingface_hub/how-to-cache#limitations.\n",
      "To support symlinks on Windows, you either need to activate Developer Mode or to run Python as an administrator. In order to activate developer mode, see this article: https://docs.microsoft.com/en-us/windows/apps/get-started/enable-your-device-for-development\n",
      "  warnings.warn(message)\n",
      "Xet Storage is enabled for this repo, but the 'hf_xet' package is not installed. Falling back to regular HTTP download. For better performance, install the package with: `pip install huggingface_hub[hf_xet]` or `pip install hf_xet`\n",
      "Fetching 8 files: 100%|██████████| 8/8 [00:26<00:00,  3.35s/it]\n"
     ]
    },
    {
     "data": {
      "text/plain": [
       "UpdateResult(operation_id=0, status=<UpdateStatus.COMPLETED: 'completed'>)"
      ]
     },
     "execution_count": 7,
     "metadata": {},
     "output_type": "execute_result"
    }
   ],
   "source": [
    "\n",
    "client.upsert(\n",
    "    collection_name=\"{minicoil_collection_name}\",\n",
    "    points=[\n",
    "        models.PointStruct(\n",
    "            id=i,\n",
    "            payload={\n",
    "                \"text\": documents[i]\n",
    "            },\n",
    "            vector={\n",
    "                # Sparse miniCOIL vectors\n",
    "                \"minicoil\": models.Document(\n",
    "                    text=documents[i],\n",
    "                    model=\"Qdrant/minicoil-v1\",\n",
    "                    options={\"avg_len\": avg_documents_length}   \n",
    "                    #Average length of documents in the corpus \n",
    "                     # (a part of the BM25 formula on which miniCOIL is built)\n",
    "                )\n",
    "            },\n",
    "        )\n",
    "        for i in range(len(documents))\n",
    "    ],\n",
    ")"
   ]
  },
  {
   "cell_type": "code",
   "execution_count": 9,
   "id": "dff52c56",
   "metadata": {},
   "outputs": [],
   "source": [
    "query = \"Vectors in Medicine\"\n",
    "\n",
    "response = client.query_points(\n",
    "    collection_name=\"{minicoil_collection_name}\",\n",
    "    query=models.Document(\n",
    "        text=query, \n",
    "        model=\"Qdrant/minicoil-v1\"\n",
    "    ), \n",
    "    using=\"minicoil\",\n",
    "    limit=1\n",
    ")"
   ]
  },
  {
   "cell_type": "code",
   "execution_count": 14,
   "id": "6f12997c",
   "metadata": {},
   "outputs": [
    {
     "data": {
      "text/plain": [
       "'Vector Control Strategies in Public Health'"
      ]
     },
     "execution_count": 14,
     "metadata": {},
     "output_type": "execute_result"
    }
   ],
   "source": [
    "response.points[0].payload[\"text\"]"
   ]
  },
  {
   "cell_type": "code",
   "execution_count": 15,
   "id": "9436aeb1",
   "metadata": {},
   "outputs": [
    {
     "data": {
      "text/plain": [
       "ScoredPoint(id=28, version=0, score=0.683167576789856, payload={'text': 'Vector Control Strategies in Public Health'}, vector=None, shard_key=None, order_value=None)"
      ]
     },
     "execution_count": 15,
     "metadata": {},
     "output_type": "execute_result"
    }
   ],
   "source": [
    "response.points[0]"
   ]
  },
  {
   "cell_type": "code",
   "execution_count": null,
   "id": "699cfdeb",
   "metadata": {},
   "outputs": [],
   "source": []
  },
  {
   "cell_type": "code",
   "execution_count": null,
   "id": "50d16c21",
   "metadata": {},
   "outputs": [],
   "source": []
  },
  {
   "cell_type": "code",
   "execution_count": null,
   "id": "63e070d9",
   "metadata": {},
   "outputs": [],
   "source": []
  }
 ],
 "metadata": {
  "kernelspec": {
   "display_name": ".venv (3.12.1)",
   "language": "python",
   "name": "python3"
  },
  "language_info": {
   "codemirror_mode": {
    "name": "ipython",
    "version": 3
   },
   "file_extension": ".py",
   "mimetype": "text/x-python",
   "name": "python",
   "nbconvert_exporter": "python",
   "pygments_lexer": "ipython3",
   "version": "3.12.1"
  }
 },
 "nbformat": 4,
 "nbformat_minor": 5
}
