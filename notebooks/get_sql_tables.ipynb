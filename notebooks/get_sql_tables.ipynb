{
 "cells": [
  {
   "cell_type": "code",
   "execution_count": 1,
   "id": "4820ddf9",
   "metadata": {},
   "outputs": [],
   "source": [
    "import sys\n",
    "sys.path.append(\"..\")\n",
    "from azureopenaimanager.eam_prompts01 import *\n",
    "from azureopenaimanager.eam_prompts03 import *"
   ]
  },
  {
   "cell_type": "code",
   "execution_count": 2,
   "id": "cfe5c330",
   "metadata": {},
   "outputs": [],
   "source": [
    "from azureopenaimanager.azureopenai_helper import AzureOpenAIManager"
   ]
  },
  {
   "cell_type": "code",
   "execution_count": 3,
   "id": "65ec4aa2",
   "metadata": {},
   "outputs": [],
   "source": [
    "import os\n",
    "\n",
    "from dotenv import load_dotenv\n",
    "# Load environment variables for secrets\n",
    "load_dotenv(\"../.env\")\n",
    "QDRANT_URL = os.getenv(\"QDRANT_URL\")\n",
    "QDRANT_API_KEY = os.getenv(\"QDRANT_KEY\")\n",
    "COLLECTION_NAME = \"PWD_SENTENCE_TRANSFORMERS\"\n",
    "MODEL_NAME = \"sentence-transformers/all-MiniLM-L6-v2\"\n",
    "AZURE_OPENAI_ENDPOINT = os.getenv(\"AZURE_OPENAI_ENDPOINT\")\n",
    "AZURE_OPENAI_API_KEY = os.getenv(\"AZURE_OPENAI_API_KEY\")\n",
    "AZURE_OPENAI_DEPLOYMENT_ID = os.getenv(\"AZURE_OPENAI_DEPLOYMENT_NAME\")\n",
    "OPENAI_API_VERSION = os.getenv(\"OPENAI_API_VERSION\")"
   ]
  },
  {
   "cell_type": "code",
   "execution_count": 5,
   "id": "dee7ac6c",
   "metadata": {},
   "outputs": [],
   "source": [
    "azure_open_ai_manager = AzureOpenAIManager(\n",
    "                        endpoint=AZURE_OPENAI_ENDPOINT,\n",
    "                        api_key=AZURE_OPENAI_API_KEY,\n",
    "                        deployment_id=AZURE_OPENAI_DEPLOYMENT_ID,\n",
    "                        api_version=OPENAI_API_VERSION\n",
    "                    )\n",
    "    "
   ]
  },
  {
   "cell_type": "code",
   "execution_count": 6,
   "id": "e99bb060",
   "metadata": {},
   "outputs": [],
   "source": [
    "question = \"Get the locations and their hazards\""
   ]
  },
  {
   "cell_type": "code",
   "execution_count": 7,
   "id": "f7d35f86",
   "metadata": {},
   "outputs": [],
   "source": [
    "sql_query = None\n",
    "context = eam_prompts_part_1\n",
    "if context == \"\":\n",
    "    msg,_,_,_ = azure_open_ai_manager.generate_answer_document(question)\n",
    "else:\n",
    "    msg,_,_,_ = azure_open_ai_manager.generate_answer_document_with_context(question,context)"
   ]
  },
  {
   "cell_type": "code",
   "execution_count": 8,
   "id": "eaf98230",
   "metadata": {},
   "outputs": [
    {
     "data": {
      "text/plain": [
       "'locations, location_hazard, hazards'"
      ]
     },
     "execution_count": 8,
     "metadata": {},
     "output_type": "execute_result"
    }
   ],
   "source": [
    "msg"
   ]
  },
  {
   "cell_type": "code",
   "execution_count": 9,
   "id": "b18d92ed",
   "metadata": {},
   "outputs": [],
   "source": [
    "msg_list = msg.split(\",\")"
   ]
  },
  {
   "cell_type": "code",
   "execution_count": 10,
   "id": "f4ac17fb",
   "metadata": {},
   "outputs": [
    {
     "data": {
      "text/plain": [
       "['locations', ' location_hazard', ' hazards']"
      ]
     },
     "execution_count": 10,
     "metadata": {},
     "output_type": "execute_result"
    }
   ],
   "source": [
    "msg_list"
   ]
  },
  {
   "cell_type": "code",
   "execution_count": 11,
   "id": "bea3b3f7",
   "metadata": {},
   "outputs": [],
   "source": [
    "import json\n",
    "\n",
    "def get_table_schema(table_name, json_path='../azureopenaimanager/eam_prompts.json'):\n",
    "    \"\"\"\n",
    "    Returns the table schema (column definitions) for a given table name\n",
    "    from the eam_prompts.json file.\n",
    "\n",
    "    :param table_name: str, the name of the table (key in JSON)\n",
    "    :param json_path: str, optional path to the JSON file\n",
    "    :return: dict (schema) if key exists, else None\n",
    "    \"\"\"\n",
    "    with open(json_path, 'r', encoding='utf-8') as file:\n",
    "        data = json.load(file)\n",
    "    return data.get(table_name)\n"
   ]
  },
  {
   "cell_type": "code",
   "execution_count": 12,
   "id": "c7aacb23",
   "metadata": {},
   "outputs": [],
   "source": [
    "table_schema = \"\""
   ]
  },
  {
   "cell_type": "code",
   "execution_count": 13,
   "id": "1764ef03",
   "metadata": {},
   "outputs": [],
   "source": [
    "for table_name in msg_list:\n",
    "    table_schema = table_schema + \" \" + get_table_schema(table_name=\"locations\")"
   ]
  },
  {
   "cell_type": "code",
   "execution_count": 14,
   "id": "52be31e8",
   "metadata": {},
   "outputs": [],
   "source": [
    "context = eam_prompts_header + table_schema"
   ]
  },
  {
   "cell_type": "code",
   "execution_count": 15,
   "id": "02c52943",
   "metadata": {},
   "outputs": [],
   "source": [
    "msg,_,_,_ = azure_open_ai_manager.generate_answer_document_with_context(question,context)"
   ]
  },
  {
   "cell_type": "code",
   "execution_count": 16,
   "id": "6db13423",
   "metadata": {},
   "outputs": [
    {
     "name": "stdout",
     "output_type": "stream",
     "text": [
      "('```sql\\n'\n",
      " 'SELECT \\n'\n",
      " '    l.location_name, \\n'\n",
      " '    h.hazard_id, \\n'\n",
      " '    h.hazard_description\\n'\n",
      " 'FROM \\n'\n",
      " '    locations l\\n'\n",
      " 'JOIN \\n'\n",
      " '    location_hazard lh ON l.location_name = lh.location_name\\n'\n",
      " 'JOIN \\n'\n",
      " '    hazards h ON lh.hazard_id = h.hazard_id;\\n'\n",
      " '```')\n"
     ]
    }
   ],
   "source": [
    "from pprint import pprint\n",
    "pprint(msg)"
   ]
  }
 ],
 "metadata": {
  "kernelspec": {
   "display_name": ".venv (3.12.1)",
   "language": "python",
   "name": "python3"
  },
  "language_info": {
   "codemirror_mode": {
    "name": "ipython",
    "version": 3
   },
   "file_extension": ".py",
   "mimetype": "text/x-python",
   "name": "python",
   "nbconvert_exporter": "python",
   "pygments_lexer": "ipython3",
   "version": "3.12.1"
  }
 },
 "nbformat": 4,
 "nbformat_minor": 5
}
